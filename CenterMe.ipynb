{
  "cells": [
    {
      "cell_type": "markdown",
      "metadata": {
        "id": "PEEkDyU0Gr-V"
      },
      "source": [
        "# 人物识别\n",
        "\n",
        "基于Google MediaPipe实现人物动作识别/定位"
      ]
    },
    {
      "cell_type": "code",
      "execution_count": null,
      "metadata": {
        "id": "sGhk64ZuMBZY"
      },
      "outputs": [],
      "source": [
        "VID_PATH = 'input.mp4'\n",
        "OUT_PATH = 'output.mp4'\n",
        "\n",
        "!pip install mediapipe"
      ]
    },
    {
      "cell_type": "code",
      "execution_count": null,
      "metadata": {
        "id": "PD7KhTASGlX1"
      },
      "outputs": [],
      "source": [
        "import sys, os, time, math\n",
        "import cv2\n",
        "import numpy as np\n",
        "import matplotlib.pyplot as plt\n",
        "import mediapipe as mp\n",
        "\n",
        "from IPython.display import HTML\n",
        "from base64 import b64encode"
      ]
    },
    {
      "cell_type": "code",
      "execution_count": null,
      "metadata": {
        "id": "T6bJ7c3SITnx"
      },
      "outputs": [],
      "source": [
        "'''\n",
        "Reference: https://github.com/AnanthaKannan/ai-media-pipe\n",
        "'''\n",
        "\n",
        "class poseDetector():\n",
        "  def __init__(self, mode=False, smooth=True, detectionCon=0.5, trackCon=0.5):\n",
        "    self.mode = mode\n",
        "    self.smooth = smooth\n",
        "    self.detectionCon = detectionCon\n",
        "    self.trackCon = trackCon\n",
        "    self.pTime = 0\n",
        "\n",
        "    self.mpDraw = mp.solutions.drawing_utils\n",
        "    self.mpPose = mp.solutions.pose\n",
        "    self.pose = self.mpPose.Pose(static_image_mode=self.mode,\n",
        "                            smooth_landmarks=self.smooth,\n",
        "                            min_detection_confidence=self.detectionCon,\n",
        "                            min_tracking_confidence=self.trackCon)\n",
        "\n",
        "  def findPose(self, img, draw=True):\n",
        "    imgRGB = cv2.cvtColor(img, cv2.COLOR_BGR2RGB)\n",
        "    self.results = self.pose.process(imgRGB)\n",
        "\n",
        "    if self.results.pose_landmarks:\n",
        "        if draw:\n",
        "            self.mpDraw.draw_landmarks(img, self.results.pose_landmarks, self.mpPose.POSE_CONNECTIONS)\n",
        "    return img\n",
        "\n",
        "  def getPosition(self, img):\n",
        "    self.lmList = []\n",
        "    if self.results.pose_landmarks:\n",
        "        for id, lm in enumerate(self.results.pose_landmarks.landmark):\n",
        "            h, w, c = img.shape\n",
        "            cx, cy = int(lm.x * w), int(lm.y * h)\n",
        "            self.lmList.append([id, cx, cy])\n",
        "    return self.lmList\n",
        "\n",
        "  def showFps(self, img):\n",
        "    cTime = time.time()\n",
        "    print(cTime, self.pTime)\n",
        "    fbs = 1 / (cTime - self.pTime)\n",
        "    self.pTime = cTime\n",
        "    cv2.putText(img, str(int(fbs)), (70, 80), cv2.FONT_HERSHEY_PLAIN, 3,\n",
        "                (255, 0, 0), 3)\n",
        "\n",
        "  def findAngle(self, img, p1, p2, p3, draw=True):\n",
        "    # Get the landmark\n",
        "    x1, y1 = self.lmList[p1][1:]\n",
        "    x2, y2 = self.lmList[p2][1:]\n",
        "    x3, y3 = self.lmList[p3][1:]\n",
        "\n",
        "    # Calculate the angle\n",
        "    angle = math.degrees(math.atan2(y3 - y2, x3 - x2) - math.atan2(y1 - y2, x1 - x2))\n",
        "    # some time this angle comes zero, so below conditon we added\n",
        "    if angle < 0:\n",
        "      angle += 360\n",
        "\n",
        "    # Draw\n",
        "    if draw:\n",
        "      cv2.line(img, (x1, y1), (x2, y2), (255, 255, 255), 3)\n",
        "      cv2.line(img, (x3, y3), (x2, y2), (255, 255, 255), 3)\n",
        "      cv2.circle(img, (x1, y1), 10, (0, 0, 255), cv2.FILLED)\n",
        "      cv2.circle(img, (x1, y1), 15, (0, 0, 255), 1)\n",
        "      cv2.circle(img, (x2, y2), 10, (0, 0, 255), cv2.FILLED)\n",
        "      cv2.circle(img, (x2, y2), 15, (0, 0, 255), 1)\n",
        "      cv2.circle(img, (x3, y3), 10, (0, 0, 255), cv2.FILLED)\n",
        "      cv2.circle(img, (x3, y3), 15, (0, 0, 255), 1)\n",
        "      # cv2.putText(img, str(int(angle)), (x2 - 20, y2 + 50), cv2.FONT_HERSHEY_SIMPLEX,\n",
        "      #             1, (0, 0, 255), 2)\n",
        "    return angle"
      ]
    },
    {
      "cell_type": "code",
      "execution_count": null,
      "metadata": {
        "id": "8a65ikr7VTXL"
      },
      "outputs": [],
      "source": [
        "def videoPlayer(filename):\n",
        "  if not os.path.exists(filename):\n",
        "    return\n",
        "  if os.path.getsize(filename) > 5 * 1024 **2:\n",
        "    os.system(f\"ffmpeg -i {filename} -vcodec libx264 -b:v 100k-200k compressed.mp4\")\n",
        "    filename = 'compressed.mp4'\n",
        "  file = open(filename, 'rb').read()\n",
        "  data_enc = \"data:video/mp4;base64,\" + b64encode(file).decode()\n",
        "  return HTML(\"\"\"\n",
        "    <video width=400 controls>\n",
        "          <source src=\"%s\" type=\"video/mp4\">\n",
        "    </video>\n",
        "    \"\"\" % data_enc)"
      ]
    },
    {
      "cell_type": "code",
      "execution_count": null,
      "metadata": {
        "id": "KgVOYoGxJRhY"
      },
      "outputs": [],
      "source": [
        "%%capture\n",
        "\n",
        "if not os.path.exists(VID_PATH):\n",
        "  raise f\"Video file not found: {VID_PATH}\"\n",
        "\n",
        "detector = poseDetector()\n",
        "vid = cv2.VideoCapture(VID_PATH)\n",
        "out = cv2.VideoWriter(OUT_PATH,\n",
        "                      cv2.VideoWriter_fourcc(*'MP4V'),\n",
        "                      vid.get(cv2.CAP_PROP_FPS),\n",
        "                      (int(vid.get(cv2.CAP_PROP_FRAME_WIDTH)), int(vid.get(cv2.CAP_PROP_FRAME_HEIGHT))))\n",
        "\n",
        "lmList = []\n",
        "\n",
        "while vid.isOpened():\n",
        "  ret, img = vid.read()\n",
        "  if not ret:\n",
        "    break\n",
        "  img = detector.findPose(img)\n",
        "  detector.showFps(img)\n",
        "  lmList.append(detector.getPosition(img))\n",
        "  out.write(img)\n",
        "\n",
        "vid.release()\n",
        "out.release()\n",
        "\n",
        "lmList = np.array(lmList)\n",
        "\n",
        "# 由于OpenCV视频编码选项较少，调用ffmpeg重新编码\n",
        "os.system(f\"mv {OUT_PATH} tmp_{OUT_PATH}\")\n",
        "os.system(f\"ffmpeg -i tmp_{OUT_PATH} -vcodec libx264 {OUT_PATH}\")\n",
        "os.system(f\"rm tmp_{OUT_PATH}\")"
      ]
    },
    {
      "cell_type": "code",
      "execution_count": null,
      "metadata": {
        "id": "VSRMYfrCSqH-"
      },
      "outputs": [],
      "source": [
        "videoPlayer(OUT_PATH)"
      ]
    },
    {
      "cell_type": "code",
      "source": [
        "'''\n",
        "坐标数据\n",
        "(视频帧, 坐标编号, 坐标id-x-y)\n",
        "'''\n",
        "\n",
        "lmList.shape"
      ],
      "metadata": {
        "id": "0uRHJszKji8J"
      },
      "execution_count": null,
      "outputs": []
    },
    {
      "cell_type": "markdown",
      "metadata": {
        "id": "UB1EtaPnHAhq"
      },
      "source": [
        "# 视频加工\n",
        "\n",
        "根据识别结果，对视频进行裁切、超分等后处理"
      ]
    }
  ],
  "metadata": {
    "colab": {
      "private_outputs": true,
      "provenance": [],
      "toc_visible": true
    },
    "kernelspec": {
      "display_name": "Python 3",
      "name": "python3"
    },
    "language_info": {
      "name": "python"
    }
  },
  "nbformat": 4,
  "nbformat_minor": 0
}